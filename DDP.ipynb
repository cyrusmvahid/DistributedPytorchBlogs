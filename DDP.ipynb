{
 "cells": [
  {
   "cell_type": "markdown",
   "id": "20e7f6df",
   "metadata": {},
   "source": [
    "# Distributed training\n",
    "Distribution of a deep learning model over miltiple GPUs can happen in different ways. For instance, if the model small enogh to fit on a single GPU, then we can load a copy of the model on each GPU and then distribute data onto different GPUs, calculat the gradiants for the part of data that is sent to a specific GPU and then combine those gradinents together. It could happen that the model itself becomes too large for a single GPU and then we obvously can no longer load the whole model on a GPU and would need to breakup the model and laod different part of a model on to a different gpu. In this blog we are going to look at different methods for distrbution of training on multiple GPUs on the same machine; but first things first, let us take a look at GPU architecture and how CUDA makes that architecture available to developers."
   ]
  },
  {
   "cell_type": "markdown",
   "id": "b24580cd",
   "metadata": {},
   "source": [
    "## GPU architecture\n",
    "Most of us who are old enough to have taken ASM (assembly language), have a good undertanding of Intel CPU architecture and its instructions. \n",
    "![cpu](images/cpuutilization.png)\n",
    "\n",
    "CPU is a lighting fast muli purpose processing unit. Its intruction set include basic arithmetics like add and subtract, basic logical operations such as and, or, and not, control flow, data instructions, and more. CPU can run a whole programme and operating logical and arithmetic operations inside its ALU, while running imperative programmes, that are sequential by nature. data is loaded from RAM using a bus. It instructions are performed in  registers, whcih are fast small memory insuide the CPU with the ability to run instructions. CPUs are also equipped with cash in order to hold small amount of data and instructions for reuse. This makes CPU a very efficinet and super fast processing units to run complex sequential operations. The problem with CPU is that data bus remains the bottleneck and we cannot supply the CPU with enough data to process and remain highly utilized. . Below is an example from my laptop as I try to train CIFAR10.\n",
    "\n",
    "![CIFAR10 CPU Utilization](images/cputilization.png)\n",
    "\n",
    "So, what happens as we train a model on a GPU?"
   ]
  },
  {
   "cell_type": "code",
   "execution_count": null,
   "id": "67e29ae3",
   "metadata": {},
   "outputs": [],
   "source": []
  }
 ],
 "metadata": {
  "kernelspec": {
   "display_name": "Python 3 (ipykernel)",
   "language": "python",
   "name": "python3"
  },
  "language_info": {
   "codemirror_mode": {
    "name": "ipython",
    "version": 3
   },
   "file_extension": ".py",
   "mimetype": "text/x-python",
   "name": "python",
   "nbconvert_exporter": "python",
   "pygments_lexer": "ipython3",
   "version": "3.11.0"
  }
 },
 "nbformat": 4,
 "nbformat_minor": 5
}
